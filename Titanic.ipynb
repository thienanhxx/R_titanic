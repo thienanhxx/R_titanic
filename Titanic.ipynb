{
 "cells": [
  {
   "cell_type": "code",
   "execution_count": 1,
   "id": "1f5a980a-c9d0-422d-98c6-ee490a9b9345",
   "metadata": {},
   "outputs": [],
   "source": [
    "options(warn=-1)"
   ]
  },
  {
   "cell_type": "code",
   "execution_count": 2,
   "id": "a86109ab-d882-4bd9-a94c-3eda9c286dc9",
   "metadata": {},
   "outputs": [],
   "source": [
    "library(\"titanic\")"
   ]
  },
  {
   "cell_type": "markdown",
   "id": "94760a65-b539-4054-8452-088cd132329e",
   "metadata": {},
   "source": [
    "### About dataset"
   ]
  },
  {
   "cell_type": "code",
   "execution_count": 3,
   "id": "b2984715-011c-487d-b476-2b1ddff83848",
   "metadata": {},
   "outputs": [],
   "source": [
    "# read titanic_train\n",
    "data(titanic_train)"
   ]
  },
  {
   "cell_type": "code",
   "execution_count": 4,
   "id": "b0308da5-e8e6-4755-9f7a-ad694e4e56a4",
   "metadata": {},
   "outputs": [
    {
     "data": {
      "text/html": [
       "<table class=\"dataframe\">\n",
       "<caption>A data.frame: 6 × 12</caption>\n",
       "<thead>\n",
       "\t<tr><th></th><th scope=col>PassengerId</th><th scope=col>Survived</th><th scope=col>Pclass</th><th scope=col>Name</th><th scope=col>Sex</th><th scope=col>Age</th><th scope=col>SibSp</th><th scope=col>Parch</th><th scope=col>Ticket</th><th scope=col>Fare</th><th scope=col>Cabin</th><th scope=col>Embarked</th></tr>\n",
       "\t<tr><th></th><th scope=col>&lt;int&gt;</th><th scope=col>&lt;int&gt;</th><th scope=col>&lt;int&gt;</th><th scope=col>&lt;chr&gt;</th><th scope=col>&lt;chr&gt;</th><th scope=col>&lt;dbl&gt;</th><th scope=col>&lt;int&gt;</th><th scope=col>&lt;int&gt;</th><th scope=col>&lt;chr&gt;</th><th scope=col>&lt;dbl&gt;</th><th scope=col>&lt;chr&gt;</th><th scope=col>&lt;chr&gt;</th></tr>\n",
       "</thead>\n",
       "<tbody>\n",
       "\t<tr><th scope=row>1</th><td>1</td><td>0</td><td>3</td><td>Braund, Mr. Owen Harris                            </td><td>male  </td><td>22</td><td>1</td><td>0</td><td>A/5 21171       </td><td> 7.2500</td><td>    </td><td>S</td></tr>\n",
       "\t<tr><th scope=row>2</th><td>2</td><td>1</td><td>1</td><td>Cumings, Mrs. John Bradley (Florence Briggs Thayer)</td><td>female</td><td>38</td><td>1</td><td>0</td><td>PC 17599        </td><td>71.2833</td><td>C85 </td><td>C</td></tr>\n",
       "\t<tr><th scope=row>3</th><td>3</td><td>1</td><td>3</td><td>Heikkinen, Miss. Laina                             </td><td>female</td><td>26</td><td>0</td><td>0</td><td>STON/O2. 3101282</td><td> 7.9250</td><td>    </td><td>S</td></tr>\n",
       "\t<tr><th scope=row>4</th><td>4</td><td>1</td><td>1</td><td>Futrelle, Mrs. Jacques Heath (Lily May Peel)       </td><td>female</td><td>35</td><td>1</td><td>0</td><td>113803          </td><td>53.1000</td><td>C123</td><td>S</td></tr>\n",
       "\t<tr><th scope=row>5</th><td>5</td><td>0</td><td>3</td><td>Allen, Mr. William Henry                           </td><td>male  </td><td>35</td><td>0</td><td>0</td><td>373450          </td><td> 8.0500</td><td>    </td><td>S</td></tr>\n",
       "\t<tr><th scope=row>6</th><td>6</td><td>0</td><td>3</td><td>Moran, Mr. James                                   </td><td>male  </td><td>NA</td><td>0</td><td>0</td><td>330877          </td><td> 8.4583</td><td>    </td><td>Q</td></tr>\n",
       "</tbody>\n",
       "</table>\n"
      ],
      "text/latex": [
       "A data.frame: 6 × 12\n",
       "\\begin{tabular}{r|llllllllllll}\n",
       "  & PassengerId & Survived & Pclass & Name & Sex & Age & SibSp & Parch & Ticket & Fare & Cabin & Embarked\\\\\n",
       "  & <int> & <int> & <int> & <chr> & <chr> & <dbl> & <int> & <int> & <chr> & <dbl> & <chr> & <chr>\\\\\n",
       "\\hline\n",
       "\t1 & 1 & 0 & 3 & Braund, Mr. Owen Harris                             & male   & 22 & 1 & 0 & A/5 21171        &  7.2500 &      & S\\\\\n",
       "\t2 & 2 & 1 & 1 & Cumings, Mrs. John Bradley (Florence Briggs Thayer) & female & 38 & 1 & 0 & PC 17599         & 71.2833 & C85  & C\\\\\n",
       "\t3 & 3 & 1 & 3 & Heikkinen, Miss. Laina                              & female & 26 & 0 & 0 & STON/O2. 3101282 &  7.9250 &      & S\\\\\n",
       "\t4 & 4 & 1 & 1 & Futrelle, Mrs. Jacques Heath (Lily May Peel)        & female & 35 & 1 & 0 & 113803           & 53.1000 & C123 & S\\\\\n",
       "\t5 & 5 & 0 & 3 & Allen, Mr. William Henry                            & male   & 35 & 0 & 0 & 373450           &  8.0500 &      & S\\\\\n",
       "\t6 & 6 & 0 & 3 & Moran, Mr. James                                    & male   & NA & 0 & 0 & 330877           &  8.4583 &      & Q\\\\\n",
       "\\end{tabular}\n"
      ],
      "text/markdown": [
       "\n",
       "A data.frame: 6 × 12\n",
       "\n",
       "| <!--/--> | PassengerId &lt;int&gt; | Survived &lt;int&gt; | Pclass &lt;int&gt; | Name &lt;chr&gt; | Sex &lt;chr&gt; | Age &lt;dbl&gt; | SibSp &lt;int&gt; | Parch &lt;int&gt; | Ticket &lt;chr&gt; | Fare &lt;dbl&gt; | Cabin &lt;chr&gt; | Embarked &lt;chr&gt; |\n",
       "|---|---|---|---|---|---|---|---|---|---|---|---|---|\n",
       "| 1 | 1 | 0 | 3 | Braund, Mr. Owen Harris                             | male   | 22 | 1 | 0 | A/5 21171        |  7.2500 | <!----> | S |\n",
       "| 2 | 2 | 1 | 1 | Cumings, Mrs. John Bradley (Florence Briggs Thayer) | female | 38 | 1 | 0 | PC 17599         | 71.2833 | C85  | C |\n",
       "| 3 | 3 | 1 | 3 | Heikkinen, Miss. Laina                              | female | 26 | 0 | 0 | STON/O2. 3101282 |  7.9250 | <!----> | S |\n",
       "| 4 | 4 | 1 | 1 | Futrelle, Mrs. Jacques Heath (Lily May Peel)        | female | 35 | 1 | 0 | 113803           | 53.1000 | C123 | S |\n",
       "| 5 | 5 | 0 | 3 | Allen, Mr. William Henry                            | male   | 35 | 0 | 0 | 373450           |  8.0500 | <!----> | S |\n",
       "| 6 | 6 | 0 | 3 | Moran, Mr. James                                    | male   | NA | 0 | 0 | 330877           |  8.4583 | <!----> | Q |\n",
       "\n"
      ],
      "text/plain": [
       "  PassengerId Survived Pclass\n",
       "1 1           0        3     \n",
       "2 2           1        1     \n",
       "3 3           1        3     \n",
       "4 4           1        1     \n",
       "5 5           0        3     \n",
       "6 6           0        3     \n",
       "  Name                                                Sex    Age SibSp Parch\n",
       "1 Braund, Mr. Owen Harris                             male   22  1     0    \n",
       "2 Cumings, Mrs. John Bradley (Florence Briggs Thayer) female 38  1     0    \n",
       "3 Heikkinen, Miss. Laina                              female 26  0     0    \n",
       "4 Futrelle, Mrs. Jacques Heath (Lily May Peel)        female 35  1     0    \n",
       "5 Allen, Mr. William Henry                            male   35  0     0    \n",
       "6 Moran, Mr. James                                    male   NA  0     0    \n",
       "  Ticket           Fare    Cabin Embarked\n",
       "1 A/5 21171         7.2500       S       \n",
       "2 PC 17599         71.2833 C85   C       \n",
       "3 STON/O2. 3101282  7.9250       S       \n",
       "4 113803           53.1000 C123  S       \n",
       "5 373450            8.0500       S       \n",
       "6 330877            8.4583       Q       "
      ]
     },
     "metadata": {},
     "output_type": "display_data"
    }
   ],
   "source": [
    "head(titanic_train)"
   ]
  },
  {
   "cell_type": "code",
   "execution_count": 5,
   "id": "5dd4c41f-a3fc-4ee8-b47e-e900b750e5fa",
   "metadata": {},
   "outputs": [
    {
     "data": {
      "text/html": [
       "<table class=\"dataframe\">\n",
       "<caption>A data.frame: 6 × 12</caption>\n",
       "<thead>\n",
       "\t<tr><th></th><th scope=col>PassengerId</th><th scope=col>Survived</th><th scope=col>Pclass</th><th scope=col>Name</th><th scope=col>Sex</th><th scope=col>Age</th><th scope=col>SibSp</th><th scope=col>Parch</th><th scope=col>Ticket</th><th scope=col>Fare</th><th scope=col>Cabin</th><th scope=col>Embarked</th></tr>\n",
       "\t<tr><th></th><th scope=col>&lt;int&gt;</th><th scope=col>&lt;int&gt;</th><th scope=col>&lt;int&gt;</th><th scope=col>&lt;chr&gt;</th><th scope=col>&lt;chr&gt;</th><th scope=col>&lt;dbl&gt;</th><th scope=col>&lt;int&gt;</th><th scope=col>&lt;int&gt;</th><th scope=col>&lt;chr&gt;</th><th scope=col>&lt;dbl&gt;</th><th scope=col>&lt;chr&gt;</th><th scope=col>&lt;chr&gt;</th></tr>\n",
       "</thead>\n",
       "<tbody>\n",
       "\t<tr><th scope=row>886</th><td>886</td><td>0</td><td>3</td><td>Rice, Mrs. William (Margaret Norton)    </td><td>female</td><td>39</td><td>0</td><td>5</td><td>382652    </td><td>29.125</td><td>    </td><td>Q</td></tr>\n",
       "\t<tr><th scope=row>887</th><td>887</td><td>0</td><td>2</td><td>Montvila, Rev. Juozas                   </td><td>male  </td><td>27</td><td>0</td><td>0</td><td>211536    </td><td>13.000</td><td>    </td><td>S</td></tr>\n",
       "\t<tr><th scope=row>888</th><td>888</td><td>1</td><td>1</td><td>Graham, Miss. Margaret Edith            </td><td>female</td><td>19</td><td>0</td><td>0</td><td>112053    </td><td>30.000</td><td>B42 </td><td>S</td></tr>\n",
       "\t<tr><th scope=row>889</th><td>889</td><td>0</td><td>3</td><td>Johnston, Miss. Catherine Helen \"Carrie\"</td><td>female</td><td>NA</td><td>1</td><td>2</td><td>W./C. 6607</td><td>23.450</td><td>    </td><td>S</td></tr>\n",
       "\t<tr><th scope=row>890</th><td>890</td><td>1</td><td>1</td><td>Behr, Mr. Karl Howell                   </td><td>male  </td><td>26</td><td>0</td><td>0</td><td>111369    </td><td>30.000</td><td>C148</td><td>C</td></tr>\n",
       "\t<tr><th scope=row>891</th><td>891</td><td>0</td><td>3</td><td>Dooley, Mr. Patrick                     </td><td>male  </td><td>32</td><td>0</td><td>0</td><td>370376    </td><td> 7.750</td><td>    </td><td>Q</td></tr>\n",
       "</tbody>\n",
       "</table>\n"
      ],
      "text/latex": [
       "A data.frame: 6 × 12\n",
       "\\begin{tabular}{r|llllllllllll}\n",
       "  & PassengerId & Survived & Pclass & Name & Sex & Age & SibSp & Parch & Ticket & Fare & Cabin & Embarked\\\\\n",
       "  & <int> & <int> & <int> & <chr> & <chr> & <dbl> & <int> & <int> & <chr> & <dbl> & <chr> & <chr>\\\\\n",
       "\\hline\n",
       "\t886 & 886 & 0 & 3 & Rice, Mrs. William (Margaret Norton)     & female & 39 & 0 & 5 & 382652     & 29.125 &      & Q\\\\\n",
       "\t887 & 887 & 0 & 2 & Montvila, Rev. Juozas                    & male   & 27 & 0 & 0 & 211536     & 13.000 &      & S\\\\\n",
       "\t888 & 888 & 1 & 1 & Graham, Miss. Margaret Edith             & female & 19 & 0 & 0 & 112053     & 30.000 & B42  & S\\\\\n",
       "\t889 & 889 & 0 & 3 & Johnston, Miss. Catherine Helen \"Carrie\" & female & NA & 1 & 2 & W./C. 6607 & 23.450 &      & S\\\\\n",
       "\t890 & 890 & 1 & 1 & Behr, Mr. Karl Howell                    & male   & 26 & 0 & 0 & 111369     & 30.000 & C148 & C\\\\\n",
       "\t891 & 891 & 0 & 3 & Dooley, Mr. Patrick                      & male   & 32 & 0 & 0 & 370376     &  7.750 &      & Q\\\\\n",
       "\\end{tabular}\n"
      ],
      "text/markdown": [
       "\n",
       "A data.frame: 6 × 12\n",
       "\n",
       "| <!--/--> | PassengerId &lt;int&gt; | Survived &lt;int&gt; | Pclass &lt;int&gt; | Name &lt;chr&gt; | Sex &lt;chr&gt; | Age &lt;dbl&gt; | SibSp &lt;int&gt; | Parch &lt;int&gt; | Ticket &lt;chr&gt; | Fare &lt;dbl&gt; | Cabin &lt;chr&gt; | Embarked &lt;chr&gt; |\n",
       "|---|---|---|---|---|---|---|---|---|---|---|---|---|\n",
       "| 886 | 886 | 0 | 3 | Rice, Mrs. William (Margaret Norton)     | female | 39 | 0 | 5 | 382652     | 29.125 | <!----> | Q |\n",
       "| 887 | 887 | 0 | 2 | Montvila, Rev. Juozas                    | male   | 27 | 0 | 0 | 211536     | 13.000 | <!----> | S |\n",
       "| 888 | 888 | 1 | 1 | Graham, Miss. Margaret Edith             | female | 19 | 0 | 0 | 112053     | 30.000 | B42  | S |\n",
       "| 889 | 889 | 0 | 3 | Johnston, Miss. Catherine Helen \"Carrie\" | female | NA | 1 | 2 | W./C. 6607 | 23.450 | <!----> | S |\n",
       "| 890 | 890 | 1 | 1 | Behr, Mr. Karl Howell                    | male   | 26 | 0 | 0 | 111369     | 30.000 | C148 | C |\n",
       "| 891 | 891 | 0 | 3 | Dooley, Mr. Patrick                      | male   | 32 | 0 | 0 | 370376     |  7.750 | <!----> | Q |\n",
       "\n"
      ],
      "text/plain": [
       "    PassengerId Survived Pclass Name                                     Sex   \n",
       "886 886         0        3      Rice, Mrs. William (Margaret Norton)     female\n",
       "887 887         0        2      Montvila, Rev. Juozas                    male  \n",
       "888 888         1        1      Graham, Miss. Margaret Edith             female\n",
       "889 889         0        3      Johnston, Miss. Catherine Helen \"Carrie\" female\n",
       "890 890         1        1      Behr, Mr. Karl Howell                    male  \n",
       "891 891         0        3      Dooley, Mr. Patrick                      male  \n",
       "    Age SibSp Parch Ticket     Fare   Cabin Embarked\n",
       "886 39  0     5     382652     29.125       Q       \n",
       "887 27  0     0     211536     13.000       S       \n",
       "888 19  0     0     112053     30.000 B42   S       \n",
       "889 NA  1     2     W./C. 6607 23.450       S       \n",
       "890 26  0     0     111369     30.000 C148  C       \n",
       "891 32  0     0     370376      7.750       Q       "
      ]
     },
     "metadata": {},
     "output_type": "display_data"
    }
   ],
   "source": [
    "tail(titanic_train)"
   ]
  },
  {
   "cell_type": "code",
   "execution_count": 6,
   "id": "c71d9504-072d-4230-a8f9-785386c3d9eb",
   "metadata": {},
   "outputs": [
    {
     "name": "stdout",
     "output_type": "stream",
     "text": [
      "'data.frame':\t891 obs. of  12 variables:\n",
      " $ PassengerId: int  1 2 3 4 5 6 7 8 9 10 ...\n",
      " $ Survived   : int  0 1 1 1 0 0 0 0 1 1 ...\n",
      " $ Pclass     : int  3 1 3 1 3 3 1 3 3 2 ...\n",
      " $ Name       : chr  \"Braund, Mr. Owen Harris\" \"Cumings, Mrs. John Bradley (Florence Briggs Thayer)\" \"Heikkinen, Miss. Laina\" \"Futrelle, Mrs. Jacques Heath (Lily May Peel)\" ...\n",
      " $ Sex        : chr  \"male\" \"female\" \"female\" \"female\" ...\n",
      " $ Age        : num  22 38 26 35 35 NA 54 2 27 14 ...\n",
      " $ SibSp      : int  1 1 0 1 0 0 0 3 0 1 ...\n",
      " $ Parch      : int  0 0 0 0 0 0 0 1 2 0 ...\n",
      " $ Ticket     : chr  \"A/5 21171\" \"PC 17599\" \"STON/O2. 3101282\" \"113803\" ...\n",
      " $ Fare       : num  7.25 71.28 7.92 53.1 8.05 ...\n",
      " $ Cabin      : chr  \"\" \"C85\" \"\" \"C123\" ...\n",
      " $ Embarked   : chr  \"S\" \"C\" \"S\" \"S\" ...\n"
     ]
    }
   ],
   "source": [
    "str(titanic_train)"
   ]
  },
  {
   "cell_type": "code",
   "execution_count": 7,
   "id": "910165a9-8741-4b64-b9f0-a152f0664d8a",
   "metadata": {},
   "outputs": [
    {
     "data": {
      "text/plain": [
       "  PassengerId       Survived          Pclass          Name          \n",
       " Min.   :  1.0   Min.   :0.0000   Min.   :1.000   Length:891        \n",
       " 1st Qu.:223.5   1st Qu.:0.0000   1st Qu.:2.000   Class :character  \n",
       " Median :446.0   Median :0.0000   Median :3.000   Mode  :character  \n",
       " Mean   :446.0   Mean   :0.3838   Mean   :2.309                     \n",
       " 3rd Qu.:668.5   3rd Qu.:1.0000   3rd Qu.:3.000                     \n",
       " Max.   :891.0   Max.   :1.0000   Max.   :3.000                     \n",
       "                                                                    \n",
       "     Sex                 Age            SibSp           Parch       \n",
       " Length:891         Min.   : 0.42   Min.   :0.000   Min.   :0.0000  \n",
       " Class :character   1st Qu.:20.12   1st Qu.:0.000   1st Qu.:0.0000  \n",
       " Mode  :character   Median :28.00   Median :0.000   Median :0.0000  \n",
       "                    Mean   :29.70   Mean   :0.523   Mean   :0.3816  \n",
       "                    3rd Qu.:38.00   3rd Qu.:1.000   3rd Qu.:0.0000  \n",
       "                    Max.   :80.00   Max.   :8.000   Max.   :6.0000  \n",
       "                    NA's   :177                                     \n",
       "    Ticket               Fare           Cabin             Embarked        \n",
       " Length:891         Min.   :  0.00   Length:891         Length:891        \n",
       " Class :character   1st Qu.:  7.91   Class :character   Class :character  \n",
       " Mode  :character   Median : 14.45   Mode  :character   Mode  :character  \n",
       "                    Mean   : 32.20                                        \n",
       "                    3rd Qu.: 31.00                                        \n",
       "                    Max.   :512.33                                        \n",
       "                                                                          "
      ]
     },
     "metadata": {},
     "output_type": "display_data"
    }
   ],
   "source": [
    "summary(titanic_train)"
   ]
  },
  {
   "cell_type": "code",
   "execution_count": 8,
   "id": "bc16b9c2-4395-4a29-af99-8d65642bc1a1",
   "metadata": {},
   "outputs": [
    {
     "data": {
      "text/html": [
       "<table class=\"dataframe\">\n",
       "<caption>A data.frame: 6 × 8</caption>\n",
       "<thead>\n",
       "\t<tr><th></th><th scope=col>Survived</th><th scope=col>Pclass</th><th scope=col>Sex</th><th scope=col>Age</th><th scope=col>SibSp</th><th scope=col>Parch</th><th scope=col>Fare</th><th scope=col>Embarked</th></tr>\n",
       "\t<tr><th></th><th scope=col>&lt;int&gt;</th><th scope=col>&lt;int&gt;</th><th scope=col>&lt;chr&gt;</th><th scope=col>&lt;dbl&gt;</th><th scope=col>&lt;int&gt;</th><th scope=col>&lt;int&gt;</th><th scope=col>&lt;dbl&gt;</th><th scope=col>&lt;chr&gt;</th></tr>\n",
       "</thead>\n",
       "<tbody>\n",
       "\t<tr><th scope=row>1</th><td>0</td><td>3</td><td>male  </td><td>22</td><td>1</td><td>0</td><td> 7.2500</td><td>S</td></tr>\n",
       "\t<tr><th scope=row>2</th><td>1</td><td>1</td><td>female</td><td>38</td><td>1</td><td>0</td><td>71.2833</td><td>C</td></tr>\n",
       "\t<tr><th scope=row>3</th><td>1</td><td>3</td><td>female</td><td>26</td><td>0</td><td>0</td><td> 7.9250</td><td>S</td></tr>\n",
       "\t<tr><th scope=row>4</th><td>1</td><td>1</td><td>female</td><td>35</td><td>1</td><td>0</td><td>53.1000</td><td>S</td></tr>\n",
       "\t<tr><th scope=row>5</th><td>0</td><td>3</td><td>male  </td><td>35</td><td>0</td><td>0</td><td> 8.0500</td><td>S</td></tr>\n",
       "\t<tr><th scope=row>6</th><td>0</td><td>3</td><td>male  </td><td>NA</td><td>0</td><td>0</td><td> 8.4583</td><td>Q</td></tr>\n",
       "</tbody>\n",
       "</table>\n"
      ],
      "text/latex": [
       "A data.frame: 6 × 8\n",
       "\\begin{tabular}{r|llllllll}\n",
       "  & Survived & Pclass & Sex & Age & SibSp & Parch & Fare & Embarked\\\\\n",
       "  & <int> & <int> & <chr> & <dbl> & <int> & <int> & <dbl> & <chr>\\\\\n",
       "\\hline\n",
       "\t1 & 0 & 3 & male   & 22 & 1 & 0 &  7.2500 & S\\\\\n",
       "\t2 & 1 & 1 & female & 38 & 1 & 0 & 71.2833 & C\\\\\n",
       "\t3 & 1 & 3 & female & 26 & 0 & 0 &  7.9250 & S\\\\\n",
       "\t4 & 1 & 1 & female & 35 & 1 & 0 & 53.1000 & S\\\\\n",
       "\t5 & 0 & 3 & male   & 35 & 0 & 0 &  8.0500 & S\\\\\n",
       "\t6 & 0 & 3 & male   & NA & 0 & 0 &  8.4583 & Q\\\\\n",
       "\\end{tabular}\n"
      ],
      "text/markdown": [
       "\n",
       "A data.frame: 6 × 8\n",
       "\n",
       "| <!--/--> | Survived &lt;int&gt; | Pclass &lt;int&gt; | Sex &lt;chr&gt; | Age &lt;dbl&gt; | SibSp &lt;int&gt; | Parch &lt;int&gt; | Fare &lt;dbl&gt; | Embarked &lt;chr&gt; |\n",
       "|---|---|---|---|---|---|---|---|---|\n",
       "| 1 | 0 | 3 | male   | 22 | 1 | 0 |  7.2500 | S |\n",
       "| 2 | 1 | 1 | female | 38 | 1 | 0 | 71.2833 | C |\n",
       "| 3 | 1 | 3 | female | 26 | 0 | 0 |  7.9250 | S |\n",
       "| 4 | 1 | 1 | female | 35 | 1 | 0 | 53.1000 | S |\n",
       "| 5 | 0 | 3 | male   | 35 | 0 | 0 |  8.0500 | S |\n",
       "| 6 | 0 | 3 | male   | NA | 0 | 0 |  8.4583 | Q |\n",
       "\n"
      ],
      "text/plain": [
       "  Survived Pclass Sex    Age SibSp Parch Fare    Embarked\n",
       "1 0        3      male   22  1     0      7.2500 S       \n",
       "2 1        1      female 38  1     0     71.2833 C       \n",
       "3 1        3      female 26  0     0      7.9250 S       \n",
       "4 1        1      female 35  1     0     53.1000 S       \n",
       "5 0        3      male   35  0     0      8.0500 S       \n",
       "6 0        3      male   NA  0     0      8.4583 Q       "
      ]
     },
     "metadata": {},
     "output_type": "display_data"
    }
   ],
   "source": [
    "titanic_sub <- subset(titanic_train, select=c('Survived', 'Pclass', 'Sex', 'Age', 'SibSp', 'Parch', 'Fare', 'Embarked'))\n",
    "head(titanic_sub)"
   ]
  },
  {
   "cell_type": "code",
   "execution_count": 9,
   "id": "ff115fab-9a92-40cc-b74f-7f694b34d0d3",
   "metadata": {},
   "outputs": [
    {
     "name": "stdout",
     "output_type": "stream",
     "text": [
      "[1] \"Number of rows in dataframe: 891\"\n",
      "[1] \"Number of columns in dataframe: 8\"\n"
     ]
    }
   ],
   "source": [
    "print(paste('Number of rows in dataframe:', nrow(titanic_sub)))\n",
    "print(paste('Number of columns in dataframe:', ncol(titanic_sub)))"
   ]
  },
  {
   "cell_type": "code",
   "execution_count": 10,
   "id": "24747f01-0aff-4338-a08c-63e70d3a08d9",
   "metadata": {},
   "outputs": [
    {
     "data": {
      "text/html": [
       "<table class=\"dataframe\">\n",
       "<caption>A data.frame: 6 × 8</caption>\n",
       "<thead>\n",
       "\t<tr><th></th><th scope=col>Survived</th><th scope=col>Pclass</th><th scope=col>Sex</th><th scope=col>Age</th><th scope=col>SibSp</th><th scope=col>Parch</th><th scope=col>Fare</th><th scope=col>Embarked</th></tr>\n",
       "\t<tr><th></th><th scope=col>&lt;int&gt;</th><th scope=col>&lt;int&gt;</th><th scope=col>&lt;chr&gt;</th><th scope=col>&lt;dbl&gt;</th><th scope=col>&lt;int&gt;</th><th scope=col>&lt;int&gt;</th><th scope=col>&lt;dbl&gt;</th><th scope=col>&lt;chr&gt;</th></tr>\n",
       "</thead>\n",
       "<tbody>\n",
       "\t<tr><th scope=row>1</th><td>0</td><td>3</td><td>male  </td><td>22</td><td>1</td><td>0</td><td> 7.2500</td><td>S</td></tr>\n",
       "\t<tr><th scope=row>2</th><td>1</td><td>1</td><td>female</td><td>38</td><td>1</td><td>0</td><td>71.2833</td><td>C</td></tr>\n",
       "\t<tr><th scope=row>3</th><td>1</td><td>3</td><td>female</td><td>26</td><td>0</td><td>0</td><td> 7.9250</td><td>S</td></tr>\n",
       "\t<tr><th scope=row>4</th><td>1</td><td>1</td><td>female</td><td>35</td><td>1</td><td>0</td><td>53.1000</td><td>S</td></tr>\n",
       "\t<tr><th scope=row>5</th><td>0</td><td>3</td><td>male  </td><td>35</td><td>0</td><td>0</td><td> 8.0500</td><td>S</td></tr>\n",
       "\t<tr><th scope=row>7</th><td>0</td><td>1</td><td>male  </td><td>54</td><td>0</td><td>0</td><td>51.8625</td><td>S</td></tr>\n",
       "</tbody>\n",
       "</table>\n"
      ],
      "text/latex": [
       "A data.frame: 6 × 8\n",
       "\\begin{tabular}{r|llllllll}\n",
       "  & Survived & Pclass & Sex & Age & SibSp & Parch & Fare & Embarked\\\\\n",
       "  & <int> & <int> & <chr> & <dbl> & <int> & <int> & <dbl> & <chr>\\\\\n",
       "\\hline\n",
       "\t1 & 0 & 3 & male   & 22 & 1 & 0 &  7.2500 & S\\\\\n",
       "\t2 & 1 & 1 & female & 38 & 1 & 0 & 71.2833 & C\\\\\n",
       "\t3 & 1 & 3 & female & 26 & 0 & 0 &  7.9250 & S\\\\\n",
       "\t4 & 1 & 1 & female & 35 & 1 & 0 & 53.1000 & S\\\\\n",
       "\t5 & 0 & 3 & male   & 35 & 0 & 0 &  8.0500 & S\\\\\n",
       "\t7 & 0 & 1 & male   & 54 & 0 & 0 & 51.8625 & S\\\\\n",
       "\\end{tabular}\n"
      ],
      "text/markdown": [
       "\n",
       "A data.frame: 6 × 8\n",
       "\n",
       "| <!--/--> | Survived &lt;int&gt; | Pclass &lt;int&gt; | Sex &lt;chr&gt; | Age &lt;dbl&gt; | SibSp &lt;int&gt; | Parch &lt;int&gt; | Fare &lt;dbl&gt; | Embarked &lt;chr&gt; |\n",
       "|---|---|---|---|---|---|---|---|---|\n",
       "| 1 | 0 | 3 | male   | 22 | 1 | 0 |  7.2500 | S |\n",
       "| 2 | 1 | 1 | female | 38 | 1 | 0 | 71.2833 | C |\n",
       "| 3 | 1 | 3 | female | 26 | 0 | 0 |  7.9250 | S |\n",
       "| 4 | 1 | 1 | female | 35 | 1 | 0 | 53.1000 | S |\n",
       "| 5 | 0 | 3 | male   | 35 | 0 | 0 |  8.0500 | S |\n",
       "| 7 | 0 | 1 | male   | 54 | 0 | 0 | 51.8625 | S |\n",
       "\n"
      ],
      "text/plain": [
       "  Survived Pclass Sex    Age SibSp Parch Fare    Embarked\n",
       "1 0        3      male   22  1     0      7.2500 S       \n",
       "2 1        1      female 38  1     0     71.2833 C       \n",
       "3 1        3      female 26  0     0      7.9250 S       \n",
       "4 1        1      female 35  1     0     53.1000 S       \n",
       "5 0        3      male   35  0     0      8.0500 S       \n",
       "7 0        1      male   54  0     0     51.8625 S       "
      ]
     },
     "metadata": {},
     "output_type": "display_data"
    }
   ],
   "source": [
    "# Kiểm tra null\n",
    "titanic_sub <- titanic_sub[colSums(!is.na(titanic_sub)) > 0]\n",
    "titanic_sub <- na.omit(titanic_sub)\n",
    "head(titanic_sub)"
   ]
  },
  {
   "cell_type": "code",
   "execution_count": 11,
   "id": "ef2ee65c-2eef-42fd-8098-f321d5554b8a",
   "metadata": {},
   "outputs": [
    {
     "name": "stdout",
     "output_type": "stream",
     "text": [
      "[1] \"Number of rows after removing null in dataframe: 714\"\n"
     ]
    }
   ],
   "source": [
    "print(paste('Number of rows after removing null in dataframe:', nrow(titanic_sub)))"
   ]
  },
  {
   "cell_type": "code",
   "execution_count": 12,
   "id": "89417316-8c4f-4848-99b8-5f42b3db6f44",
   "metadata": {},
   "outputs": [
    {
     "name": "stdout",
     "output_type": "stream",
     "text": [
      "'data.frame':\t714 obs. of  8 variables:\n",
      " $ Survived: int  0 1 1 1 0 0 0 1 1 1 ...\n",
      " $ Pclass  : int  3 1 3 1 3 1 3 3 2 3 ...\n",
      " $ Sex     : chr  \"male\" \"female\" \"female\" \"female\" ...\n",
      " $ Age     : num  22 38 26 35 35 54 2 27 14 4 ...\n",
      " $ SibSp   : int  1 1 0 1 0 0 3 0 1 1 ...\n",
      " $ Parch   : int  0 0 0 0 0 0 1 2 0 1 ...\n",
      " $ Fare    : num  7.25 71.28 7.92 53.1 8.05 ...\n",
      " $ Embarked: chr  \"S\" \"C\" \"S\" \"S\" ...\n",
      " - attr(*, \"na.action\")= 'omit' Named int [1:177] 6 18 20 27 29 30 32 33 37 43 ...\n",
      "  ..- attr(*, \"names\")= chr [1:177] \"6\" \"18\" \"20\" \"27\" ...\n"
     ]
    }
   ],
   "source": [
    "str(titanic_sub)"
   ]
  },
  {
   "cell_type": "code",
   "execution_count": 13,
   "id": "43e79c98-e001-4e29-b732-604ef0a7516a",
   "metadata": {},
   "outputs": [
    {
     "data": {
      "text/plain": [
       "    Survived          Pclass          Sex                 Age       \n",
       " Min.   :0.0000   Min.   :1.000   Length:714         Min.   : 0.42  \n",
       " 1st Qu.:0.0000   1st Qu.:1.000   Class :character   1st Qu.:20.12  \n",
       " Median :0.0000   Median :2.000   Mode  :character   Median :28.00  \n",
       " Mean   :0.4062   Mean   :2.237                      Mean   :29.70  \n",
       " 3rd Qu.:1.0000   3rd Qu.:3.000                      3rd Qu.:38.00  \n",
       " Max.   :1.0000   Max.   :3.000                      Max.   :80.00  \n",
       "     SibSp            Parch             Fare          Embarked        \n",
       " Min.   :0.0000   Min.   :0.0000   Min.   :  0.00   Length:714        \n",
       " 1st Qu.:0.0000   1st Qu.:0.0000   1st Qu.:  8.05   Class :character  \n",
       " Median :0.0000   Median :0.0000   Median : 15.74   Mode  :character  \n",
       " Mean   :0.5126   Mean   :0.4314   Mean   : 34.69                     \n",
       " 3rd Qu.:1.0000   3rd Qu.:1.0000   3rd Qu.: 33.38                     \n",
       " Max.   :5.0000   Max.   :6.0000   Max.   :512.33                     "
      ]
     },
     "metadata": {},
     "output_type": "display_data"
    }
   ],
   "source": [
    "summary(titanic_sub)"
   ]
  },
  {
   "cell_type": "code",
   "execution_count": 14,
   "id": "43a3788c-ccab-4ddc-8e9b-4089e1c1aedc",
   "metadata": {},
   "outputs": [
    {
     "data": {
      "image/png": "[encoded data removed]",
      "text/plain": [
       "Plot with title \"Ages\""
      ]
     },
     "metadata": {
      "image/png": {
       "height": 420,
       "width": 420
      }
     },
     "output_type": "display_data"
    }
   ],
   "source": [
    "# Vẽ biểu đồ phân phối tần suất của Age. Nhận xét.\n",
    "hist(titanic_sub$Age, main = 'Ages',\n",
    "     xlab = 'Age',\n",
    "     col = 'orange')"
   ]
  },
  {
   "cell_type": "markdown",
   "id": "04ddf0cc-e606-4d07-b8c1-d61753b28848",
   "metadata": {},
   "source": [
    "- Nhận xét: "
   ]
  },
  {
   "cell_type": "code",
   "execution_count": 15,
   "id": "8469dab3-f743-48c2-a5f6-d0e4c61be9a3",
   "metadata": {},
   "outputs": [
    {
     "name": "stdout",
     "output_type": "stream",
     "text": [
      "[1] \"Thống kê cơ bản cho Age\"\n"
     ]
    },
    {
     "data": {
      "text/plain": [
       "   Min. 1st Qu.  Median    Mean 3rd Qu.    Max. \n",
       "   0.42   20.12   28.00   29.70   38.00   80.00 "
      ]
     },
     "metadata": {},
     "output_type": "display_data"
    },
    {
     "name": "stdout",
     "output_type": "stream",
     "text": [
      "[1] \"Thống kê cơ bản cho Fare\"\n"
     ]
    },
    {
     "data": {
      "text/plain": [
       "   Min. 1st Qu.  Median    Mean 3rd Qu.    Max. \n",
       "   0.00    8.05   15.74   34.69   33.38  512.33 "
      ]
     },
     "metadata": {},
     "output_type": "display_data"
    }
   ],
   "source": [
    "# Thực hiện các thống kê cơ bản cho Age và Fare (mean, median, mode, max, min, range)\n",
    "print('Thống kê cơ bản cho Age')\n",
    "summary(titanic_sub$Age)\n",
    "print('Thống kê cơ bản cho Fare')\n",
    "summary(titanic_sub$Fare)"
   ]
  },
  {
   "cell_type": "code",
   "execution_count": 16,
   "id": "81ce8ccf-2bd7-446c-9a0a-c3a2008f20e2",
   "metadata": {},
   "outputs": [
    {
     "data": {
      "text/html": [
       "<style>\n",
       ".dl-inline {width: auto; margin:0; padding: 0}\n",
       ".dl-inline>dt, .dl-inline>dd {float: none; width: auto; display: inline-block}\n",
       ".dl-inline>dt::after {content: \":\\0020\"; padding-right: .5ex}\n",
       ".dl-inline>dt:not(:first-of-type) {padding-left: .5ex}\n",
       "</style><dl class=dl-inline><dt>5%</dt><dd>7.225</dd><dt>30%</dt><dd>9.19503</dd><dt>60%</dt><dd>26</dd><dt>95%</dt><dd>120</dd></dl>\n"
      ],
      "text/latex": [
       "\\begin{description*}\n",
       "\\item[5\\textbackslash{}\\%] 7.225\n",
       "\\item[30\\textbackslash{}\\%] 9.19503\n",
       "\\item[60\\textbackslash{}\\%] 26\n",
       "\\item[95\\textbackslash{}\\%] 120\n",
       "\\end{description*}\n"
      ],
      "text/markdown": [
       "5%\n",
       ":   7.22530%\n",
       ":   9.1950360%\n",
       ":   2695%\n",
       ":   120\n",
       "\n"
      ],
      "text/plain": [
       "       5%       30%       60%       95% \n",
       "  7.22500   9.19503  26.00000 120.00000 "
      ]
     },
     "metadata": {},
     "output_type": "display_data"
    }
   ],
   "source": [
    "titanic_sub_fare <- quantile(titanic_sub$Fare, c(0.05, 0.3, 0.6, 0.95))\n",
    "titanic_sub_fare"
   ]
  },
  {
   "cell_type": "code",
   "execution_count": 17,
   "id": "706704fb-c977-4635-b653-160118cca439",
   "metadata": {},
   "outputs": [
    {
     "data": {
      "image/png": "[encoded data removed]",
      "text/plain": [
       "plot without title"
      ]
     },
     "metadata": {
      "image/png": {
       "height": 420,
       "width": 420
      }
     },
     "output_type": "display_data"
    }
   ],
   "source": [
    "# plot the line\n",
    "plot(c(0.05, 0.3, 0.6, 0.95), titanic_sub_fare, type = 'o')"
   ]
  },
  {
   "cell_type": "code",
   "execution_count": 18,
   "id": "24a7c9df-688c-4c44-9704-714282ea4e36",
   "metadata": {},
   "outputs": [
    {
     "data": {
      "image/png": "[encoded data removed]",
      "text/plain": [
       "Plot with title \"Fare\""
      ]
     },
     "metadata": {
      "image/png": {
       "height": 420,
       "width": 420
      }
     },
     "output_type": "display_data"
    }
   ],
   "source": [
    "# check for outliers\n",
    "par(mfrow = c(1,2)) # divide graph area in 2 columns\n",
    "boxplot(titanic_sub$Age, main = 'Age')\n",
    "boxplot(titanic_sub$Fare, main = 'Fare', ylim = c(0, 250))"
   ]
  },
  {
   "cell_type": "markdown",
   "id": "c92b37d6-60a4-4f70-911c-3f80c7de58bc",
   "metadata": {},
   "source": [
    "- Nhận xét: Cả Age và Fare đều có outliers"
   ]
  },
  {
   "cell_type": "code",
   "execution_count": 19,
   "id": "66d9f45a-ab0f-4181-8e4c-2d513b2f65b7",
   "metadata": {},
   "outputs": [
    {
     "name": "stdout",
     "output_type": "stream",
     "text": [
      "[1] \"age_outliers:\"\n",
      "[1] 66.0 71.0 70.5 71.0 80.0 70.0 70.0 74.0\n",
      "[1] \"fare_outliers:\"\n",
      " [1] 263.0000  82.1708  76.7292  80.0000  83.4750  73.5000 263.0000  77.2875\n",
      " [9] 247.5208  73.5000  77.2875  79.2000 146.5208 113.2750  76.2917  90.0000\n",
      "[17]  83.4750  90.0000  86.5000 512.3292  79.6500 153.4625 135.6333  77.9583\n",
      "[25]  78.8500  91.0792 151.5500 247.5208 151.5500 108.9000  83.1583 262.3750\n",
      "[33] 164.8667 134.5000 135.6333 153.4625 134.5000 263.0000  75.2500 135.6333\n",
      "[41] 211.5000 227.5250  73.5000 120.0000 113.2750  90.0000 120.0000 263.0000\n",
      "[49]  81.8583  89.1042  91.0792  90.0000  78.2667 151.5500  86.5000 108.9000\n",
      "[57]  93.5000 106.4250 106.4250 110.8833  79.6500 110.8833  79.6500  79.2000\n",
      "[65]  78.2667 153.4625  77.9583  76.7292  73.5000 113.2750 133.6500  73.5000\n",
      "[73] 512.3292  76.7292 211.3375 110.8833 227.5250 151.5500 227.5250 211.3375\n",
      "[81] 512.3292  78.8500 262.3750  86.5000 120.0000  77.9583 211.3375  79.2000\n",
      "[89] 120.0000  93.5000  80.0000  83.1583 164.8667  83.1583\n"
     ]
    }
   ],
   "source": [
    "age_outliers <- boxplot.stats(titanic_sub$Age)$out\n",
    "print('age_outliers:')\n",
    "print(age_outliers)\n",
    "\n",
    "fare_outliers <- c(boxplot.stats(titanic_sub$Fare)$out)\n",
    "print('fare_outliers:')\n",
    "print(fare_outliers)"
   ]
  },
  {
   "cell_type": "code",
   "execution_count": 20,
   "id": "462eb3a7-9a20-41a2-9be2-0619bfd1217c",
   "metadata": {},
   "outputs": [
    {
     "name": "stdout",
     "output_type": "stream",
     "text": [
      "[1] \"Number of outliers in Age\"\n"
     ]
    },
    {
     "data": {
      "text/html": [
       "11"
      ],
      "text/latex": [
       "11"
      ],
      "text/markdown": [
       "11"
      ],
      "text/plain": [
       "[1] 11"
      ]
     },
     "metadata": {},
     "output_type": "display_data"
    }
   ],
   "source": [
    "print('Number of outliers in Age')\n",
    "outlier_num_age <-\n",
    "sum(titanic_sub$Age < quantile(titanic_sub$Age, p = 0.25) - 1.5 * IQR(titanic_sub$Age)) +\n",
    "sum(titanic_sub$Age > quantile(titanic_sub$Age, p = 0.75) + 1.5 * IQR(titanic_sub$Age))\n",
    "outlier_num_age"
   ]
  },
  {
   "cell_type": "code",
   "execution_count": 21,
   "id": "f5933521-38e5-459a-8737-e095267e442b",
   "metadata": {},
   "outputs": [
    {
     "name": "stdout",
     "output_type": "stream",
     "text": [
      "[1] \"Number of outliers in Fare\"\n"
     ]
    },
    {
     "data": {
      "text/html": [
       "94"
      ],
      "text/latex": [
       "94"
      ],
      "text/markdown": [
       "94"
      ],
      "text/plain": [
       "[1] 94"
      ]
     },
     "metadata": {},
     "output_type": "display_data"
    }
   ],
   "source": [
    "print('Number of outliers in Fare')\n",
    "outlier_num_fare <-\n",
    "sum(titanic_sub$Fare < quantile(titanic_sub$Fare, p = 0.25) - 1.5 * IQR(titanic_sub$Fare)) +\n",
    "sum(titanic_sub$Fare > quantile(titanic_sub$Fare, p = 0.75) + 1.5 * IQR(titanic_sub$Fare))\n",
    "outlier_num_fare"
   ]
  },
  {
   "cell_type": "code",
   "execution_count": 22,
   "id": "3240452e-13ce-4198-b137-37aec9f44369",
   "metadata": {},
   "outputs": [
    {
     "name": "stdout",
     "output_type": "stream",
     "text": [
      "[1] \"Before dropping: 714\"\n",
      "[1] \"After dropping: 612\"\n"
     ]
    }
   ],
   "source": [
    "# drop rows have outliers\n",
    "print(paste('Before dropping:', nrow(titanic_sub)))\n",
    "for (record in age_outliers) {\n",
    "    titanic_sub <- titanic_sub[titanic_sub$Age != record,]\n",
    "    }\n",
    "for (record in fare_outliers) {\n",
    "    titanic_sub <- titanic_sub[titanic_sub$Fare != record,]\n",
    "    }\n",
    "print(paste('After dropping:', nrow(titanic_sub)))"
   ]
  },
  {
   "cell_type": "code",
   "execution_count": 23,
   "id": "a16592b3-e706-4888-8a84-617d95d0a446",
   "metadata": {},
   "outputs": [],
   "source": [
    "# Vẽ pie chart thống kê hành khách theo từng cột Survived, PClass, Sex. Nhận xét.\n",
    "survived <- table(titanic_sub$Survived)\n",
    "colors1 <- c('red','yellow')\n",
    "\n",
    "pclass <- table(titanic_sub$Pclass)\n",
    "colors2 <- c('blue', 'pink', 'green')\n",
    "\n",
    "sex <- table(titanic_sub$Sex)\n",
    "colors3 <- c('violet', 'cyan')"
   ]
  },
  {
   "cell_type": "code",
   "execution_count": 24,
   "id": "70e4b044-21ad-4108-96d3-ceaa49dbb020",
   "metadata": {},
   "outputs": [
    {
     "data": {
      "image/png": "[encoded data removed]",
      "text/plain": [
       "Plot with title \"Survived\""
      ]
     },
     "metadata": {
      "image/png": {
       "height": 420,
       "width": 420
      }
     },
     "output_type": "display_data"
    }
   ],
   "source": [
    "pie(survived, col = colors1, main = 'Survived')"
   ]
  },
  {
   "cell_type": "code",
   "execution_count": 25,
   "id": "fec877c8-e647-44fb-8bdf-f198bab191bc",
   "metadata": {},
   "outputs": [
    {
     "data": {
      "image/png": "[encoded data removed]",
      "text/plain": [
       "Plot with title \"Pclass\""
      ]
     },
     "metadata": {
      "image/png": {
       "height": 420,
       "width": 420
      }
     },
     "output_type": "display_data"
    }
   ],
   "source": [
    "pie(pclass, col = colors2, main = 'Pclass')"
   ]
  },
  {
   "cell_type": "code",
   "execution_count": 26,
   "id": "392aa926-3204-48a2-bc01-1a6e32e4fb2c",
   "metadata": {},
   "outputs": [
    {
     "data": {
      "image/png": "[encoded data removed]",
      "text/plain": [
       "Plot with title \"Sex\""
      ]
     },
     "metadata": {
      "image/png": {
       "height": 420,
       "width": 420
      }
     },
     "output_type": "display_data"
    }
   ],
   "source": [
    "pie(sex, col = colors3, main = 'Sex')"
   ]
  },
  {
   "cell_type": "markdown",
   "id": "12184ac9-0503-49af-87cb-3fe2ffc52710",
   "metadata": {},
   "source": [
    "- Nhận xét: Biểu đồ 1 cho thấy số lượng người survived thấp hơn số lượng người không survived được\n",
    "- Biểu đồ 2 cho thấy Pclass = 3 chiếm số lượng cao nhất\n",
    "- Biểu đồ 3 cho thấy có male nhiều hơn female"
   ]
  },
  {
   "cell_type": "code",
   "execution_count": 27,
   "id": "655889fc-782d-4b3b-94b0-01bb875280e9",
   "metadata": {},
   "outputs": [
    {
     "data": {
      "text/html": [
       "<style>\n",
       ".dl-inline {width: auto; margin:0; padding: 0}\n",
       ".dl-inline>dt, .dl-inline>dd {float: none; width: auto; display: inline-block}\n",
       ".dl-inline>dt::after {content: \":\\0020\"; padding-right: .5ex}\n",
       ".dl-inline>dt:not(:first-of-type) {padding-left: .5ex}\n",
       "</style><dl class=dl-inline><dt>Survived</dt><dd>0.231087470449173</dd><dt>Pclass</dt><dd>0.549169367692522</dd><dt>Age</dt><dd>185.706079807826</dd><dt>SibSp</dt><dd>0.914850828492881</dd><dt>Parch</dt><dd>0.725864595701892</dd><dt>Fare</dt><dd>211.748734716698</dd></dl>\n"
      ],
      "text/latex": [
       "\\begin{description*}\n",
       "\\item[Survived] 0.231087470449173\n",
       "\\item[Pclass] 0.549169367692522\n",
       "\\item[Age] 185.706079807826\n",
       "\\item[SibSp] 0.914850828492881\n",
       "\\item[Parch] 0.725864595701892\n",
       "\\item[Fare] 211.748734716698\n",
       "\\end{description*}\n"
      ],
      "text/markdown": [
       "Survived\n",
       ":   0.231087470449173Pclass\n",
       ":   0.549169367692522Age\n",
       ":   185.706079807826SibSp\n",
       ":   0.914850828492881Parch\n",
       ":   0.725864595701892Fare\n",
       ":   211.748734716698\n",
       "\n"
      ],
      "text/plain": [
       "   Survived      Pclass         Age       SibSp       Parch        Fare \n",
       "  0.2310875   0.5491694 185.7060798   0.9148508   0.7258646 211.7487347 "
      ]
     },
     "metadata": {},
     "output_type": "display_data"
    }
   ],
   "source": [
    "# Tính phương sai của tất cả các thuộc tính số trong titanic_sub.\n",
    "sapply(subset(titanic_sub, select = -c(Sex, Embarked)), var)"
   ]
  },
  {
   "cell_type": "code",
   "execution_count": 28,
   "id": "594c0d79-f029-465e-9534-51a293e8f9db",
   "metadata": {},
   "outputs": [
    {
     "data": {
      "text/html": [
       "<style>\n",
       ".dl-inline {width: auto; margin:0; padding: 0}\n",
       ".dl-inline>dt, .dl-inline>dd {float: none; width: auto; display: inline-block}\n",
       ".dl-inline>dt::after {content: \":\\0020\"; padding-right: .5ex}\n",
       ".dl-inline>dt:not(:first-of-type) {padding-left: .5ex}\n",
       "</style><dl class=dl-inline><dt>Survived</dt><dd>0.480715581658399</dd><dt>Pclass</dt><dd>0.741059624924015</dd><dt>Age</dt><dd>13.6274017996031</dd><dt>SibSp</dt><dd>0.956478347111361</dd><dt>Parch</dt><dd>0.851976875098082</dd><dt>Fare</dt><dd>14.5515887351415</dd></dl>\n"
      ],
      "text/latex": [
       "\\begin{description*}\n",
       "\\item[Survived] 0.480715581658399\n",
       "\\item[Pclass] 0.741059624924015\n",
       "\\item[Age] 13.6274017996031\n",
       "\\item[SibSp] 0.956478347111361\n",
       "\\item[Parch] 0.851976875098082\n",
       "\\item[Fare] 14.5515887351415\n",
       "\\end{description*}\n"
      ],
      "text/markdown": [
       "Survived\n",
       ":   0.480715581658399Pclass\n",
       ":   0.741059624924015Age\n",
       ":   13.6274017996031SibSp\n",
       ":   0.956478347111361Parch\n",
       ":   0.851976875098082Fare\n",
       ":   14.5515887351415\n",
       "\n"
      ],
      "text/plain": [
       "  Survived     Pclass        Age      SibSp      Parch       Fare \n",
       " 0.4807156  0.7410596 13.6274018  0.9564783  0.8519769 14.5515887 "
      ]
     },
     "metadata": {},
     "output_type": "display_data"
    }
   ],
   "source": [
    "# Tính standard deviation của tất cả các thuộc tính số trong titanic_sub.\n",
    "sapply(subset(titanic_sub, select = -c(Sex, Embarked)), sd)"
   ]
  },
  {
   "cell_type": "code",
   "execution_count": 29,
   "id": "df4cc161-b5a3-4988-9416-c6754451a2bb",
   "metadata": {},
   "outputs": [],
   "source": [
    "library(e1071)"
   ]
  },
  {
   "cell_type": "code",
   "execution_count": 30,
   "id": "858775ec-add0-42c7-b5d4-67f75fd4b5ca",
   "metadata": {},
   "outputs": [
    {
     "data": {
      "text/html": [
       "<style>\n",
       ".dl-inline {width: auto; margin:0; padding: 0}\n",
       ".dl-inline>dt, .dl-inline>dd {float: none; width: auto; display: inline-block}\n",
       ".dl-inline>dt::after {content: \":\\0020\"; padding-right: .5ex}\n",
       ".dl-inline>dt:not(:first-of-type) {padding-left: .5ex}\n",
       "</style><dl class=dl-inline><dt>Survived</dt><dd>0.5768980725843</dd><dt>Pclass</dt><dd>-0.861540087012727</dd><dt>Age</dt><dd>0.234548619540287</dd><dt>SibSp</dt><dd>2.62353731668442</dd><dt>Parch</dt><dd>2.84859196317464</dd><dt>Fare</dt><dd>1.44191246991371</dd></dl>\n"
      ],
      "text/latex": [
       "\\begin{description*}\n",
       "\\item[Survived] 0.5768980725843\n",
       "\\item[Pclass] -0.861540087012727\n",
       "\\item[Age] 0.234548619540287\n",
       "\\item[SibSp] 2.62353731668442\n",
       "\\item[Parch] 2.84859196317464\n",
       "\\item[Fare] 1.44191246991371\n",
       "\\end{description*}\n"
      ],
      "text/markdown": [
       "Survived\n",
       ":   0.5768980725843Pclass\n",
       ":   -0.861540087012727Age\n",
       ":   0.234548619540287SibSp\n",
       ":   2.62353731668442Parch\n",
       ":   2.84859196317464Fare\n",
       ":   1.44191246991371\n",
       "\n"
      ],
      "text/plain": [
       "  Survived     Pclass        Age      SibSp      Parch       Fare \n",
       " 0.5768981 -0.8615401  0.2345486  2.6235373  2.8485920  1.4419125 "
      ]
     },
     "metadata": {},
     "output_type": "display_data"
    }
   ],
   "source": [
    "# Tính skewness của tất cả các thuộc tính số trong titanic_sub. Nhận xét cho từng thuộc tính\n",
    "sapply(subset(titanic_sub, select = -c(Sex, Embarked)), skewness)"
   ]
  },
  {
   "cell_type": "markdown",
   "id": "f9c76d7a-9e37-4b87-9ff5-a044bbd65e83",
   "metadata": {},
   "source": [
    "- Nhận xét: Survived, Age, SibSp, Parch và Fare: Phân phối lệch phải. Pclass là phân phối lệch trái "
   ]
  },
  {
   "cell_type": "code",
   "execution_count": 31,
   "id": "d53d6fc9-a7c4-4208-90d5-18d18f474811",
   "metadata": {},
   "outputs": [
    {
     "data": {
      "text/html": [
       "<style>\n",
       ".dl-inline {width: auto; margin:0; padding: 0}\n",
       ".dl-inline>dt, .dl-inline>dd {float: none; width: auto; display: inline-block}\n",
       ".dl-inline>dt::after {content: \":\\0020\"; padding-right: .5ex}\n",
       ".dl-inline>dt:not(:first-of-type) {padding-left: .5ex}\n",
       "</style><dl class=dl-inline><dt>Survived</dt><dd>-1.66990921830511</dd><dt>Pclass</dt><dd>-0.684673481475739</dd><dt>Age</dt><dd>-0.0472800570984417</dd><dt>SibSp</dt><dd>7.28052935434479</dd><dt>Parch</dt><dd>10.2826639304459</dd><dt>Fare</dt><dd>1.5503099343649</dd></dl>\n"
      ],
      "text/latex": [
       "\\begin{description*}\n",
       "\\item[Survived] -1.66990921830511\n",
       "\\item[Pclass] -0.684673481475739\n",
       "\\item[Age] -0.0472800570984417\n",
       "\\item[SibSp] 7.28052935434479\n",
       "\\item[Parch] 10.2826639304459\n",
       "\\item[Fare] 1.5503099343649\n",
       "\\end{description*}\n"
      ],
      "text/markdown": [
       "Survived\n",
       ":   -1.66990921830511Pclass\n",
       ":   -0.684673481475739Age\n",
       ":   -0.0472800570984417SibSp\n",
       ":   7.28052935434479Parch\n",
       ":   10.2826639304459Fare\n",
       ":   1.5503099343649\n",
       "\n"
      ],
      "text/plain": [
       "   Survived      Pclass         Age       SibSp       Parch        Fare \n",
       "-1.66990922 -0.68467348 -0.04728006  7.28052935 10.28266393  1.55030993 "
      ]
     },
     "metadata": {},
     "output_type": "display_data"
    }
   ],
   "source": [
    "# Tính kurtosis của tất cả các thuộc tính số trong titanic_sub. Nhận xét cho từng thuộc tính.\n",
    "sapply(subset(titanic_sub, select = -c(Sex, Embarked)), kurtosis)"
   ]
  },
  {
   "cell_type": "markdown",
   "id": "eeb7719e-3c12-49ae-a7a0-eddea1c1c8fc",
   "metadata": {},
   "source": [
    "- Nhận xét: Survived, Age, Pclass và Fare (<3): Phân phối thấp hơn phân phối chuẩn. SibSp và Parch: phân phối cao hơn phân phối chuẩn => distribution has more values in the tails compared to a normal distribution."
   ]
  },
  {
   "cell_type": "code",
   "execution_count": 32,
   "id": "8c00356c-a1af-49ed-91fd-69b54d0b5161",
   "metadata": {},
   "outputs": [],
   "source": [
    "# Vẽ biểu đồ thể hiện mối quan hệ giữa Age và Fare theo Sex, có bổ sung thêm histogram phụ trên mỗi cột. Nhận xét biểu đồ.\n",
    "age_fare_male <- subset(titanic_sub, titanic_sub$Sex == 'male')\n",
    "age_fare_female <- subset(titanic_sub, titanic_sub$Sex == 'female')"
   ]
  },
  {
   "cell_type": "code",
   "execution_count": 33,
   "id": "376c17d4-9949-41c6-8c0e-57fac3dc9a93",
   "metadata": {},
   "outputs": [],
   "source": [
    "library(ggplot2)\n",
    "library(ggExtra)"
   ]
  },
  {
   "cell_type": "code",
   "execution_count": 34,
   "id": "0521414d-01df-459d-8efc-b2631bc44fc9",
   "metadata": {},
   "outputs": [
    {
     "name": "stderr",
     "output_type": "stream",
     "text": [
      "\u001b[1m\u001b[22m`geom_smooth()` using formula = 'y ~ x'\n",
      "\u001b[1m\u001b[22m`geom_smooth()` using formula = 'y ~ x'\n",
      "\u001b[1m\u001b[22m`geom_smooth()` using formula = 'y ~ x'\n"
     ]
    },
    {
     "data": {
      "image/png": "[encoded data removed]",
      "text/plain": [
       "plot without title"
      ]
     },
     "metadata": {
      "image/png": {
       "height": 420,
       "width": 420
      }
     },
     "output_type": "display_data"
    }
   ],
   "source": [
    "gg <- ggplot(data = age_fare_male, aes(x=Age, y=Fare)) +\n",
    "geom_point() +\n",
    "geom_smooth(method = 'lm', se = F) +\n",
    "labs(y='Fare',\n",
    "     x ='Age',\n",
    "     title = 'Fare vs Age (Male)')\n",
    "theme_set(theme_bw())\n",
    "\n",
    "ggMarginal(gg, type = 'histogram', fill = 'transparent')"
   ]
  },
  {
   "cell_type": "code",
   "execution_count": 35,
   "id": "e33f3b1b-64a0-46bd-a320-05fbdc1592d0",
   "metadata": {},
   "outputs": [
    {
     "name": "stderr",
     "output_type": "stream",
     "text": [
      "\u001b[1m\u001b[22m`geom_smooth()` using formula = 'y ~ x'\n",
      "\u001b[1m\u001b[22m`geom_smooth()` using formula = 'y ~ x'\n",
      "\u001b[1m\u001b[22m`geom_smooth()` using formula = 'y ~ x'\n"
     ]
    },
    {
     "data": {
      "image/png": "[encoded data removed]",
      "text/plain": [
       "plot without title"
      ]
     },
     "metadata": {
      "image/png": {
       "height": 420,
       "width": 420
      }
     },
     "output_type": "display_data"
    }
   ],
   "source": [
    "gg1 <- ggplot(data = age_fare_female, aes(x=Age, y=Fare)) +\n",
    "geom_point() +\n",
    "geom_smooth(method = 'lm', se = F) +\n",
    "labs(y='Fare',\n",
    "     x ='Age',\n",
    "     title = 'Fare vs Age (Female)')\n",
    "theme_set(theme_bw())\n",
    "\n",
    "ggMarginal(gg1, type = 'histogram', fill = 'transparent')"
   ]
  },
  {
   "cell_type": "markdown",
   "id": "1a83a865-ff25-467a-82dd-d805b2611d02",
   "metadata": {},
   "source": [
    "- Nhận xét: Fare của Male và Female đều skewed right nhưng fare của Female có variance cao hơn của Male. Age của Male và Female không quá khác nhau"
   ]
  },
  {
   "cell_type": "code",
   "execution_count": 36,
   "id": "5db0491c-4781-42ed-95a0-2fc7ef80a7d9",
   "metadata": {},
   "outputs": [
    {
     "name": "stdout",
     "output_type": "stream",
     "text": [
      "[1] \"Covariance giữa Age và Fare\"\n",
      "[1] 16.69405\n",
      "[1] \"Correlation giữa Age và Fare\"\n",
      "[1] 0.08418571\n"
     ]
    }
   ],
   "source": [
    "# Tính giá trị covariance, correlation giữa Age và Fare. Nhận xét.\n",
    "print('Covariance giữa Age và Fare')\n",
    "print(cov(titanic_sub$Age, titanic_sub$Fare)) \n",
    "print('Correlation giữa Age và Fare')\n",
    "print(cor(titanic_sub$Age, titanic_sub$Fare)) "
   ]
  },
  {
   "cell_type": "markdown",
   "id": "f524da37-ba04-4022-8fc3-8ae89304f6df",
   "metadata": {},
   "source": [
    "- Nhận xét: giữa Age và Fare không có correlation"
   ]
  },
  {
   "cell_type": "code",
   "execution_count": 37,
   "id": "f0292645-6f1c-42ea-b13d-b15794e70faa",
   "metadata": {},
   "outputs": [],
   "source": [
    "# Cho biết số lượng mẫu có giá trị Fare >= 50, xác suất mẫu có Fare>=50 là bao nhiêu? Nhận xét.\n",
    "fare_above_50 <- subset(titanic_sub, titanic_sub$Fare >= 50, select = c(Fare))"
   ]
  },
  {
   "cell_type": "code",
   "execution_count": 38,
   "id": "177ba36f-d373-498f-b20e-633193753d36",
   "metadata": {},
   "outputs": [
    {
     "data": {
      "text/html": [
       "43"
      ],
      "text/latex": [
       "43"
      ],
      "text/markdown": [
       "43"
      ],
      "text/plain": [
       "[1] 43"
      ]
     },
     "metadata": {},
     "output_type": "display_data"
    }
   ],
   "source": [
    "# số lượng mẫu có giá trị Fare >= 50\n",
    "nrow(fare_above_50)"
   ]
  },
  {
   "cell_type": "code",
   "execution_count": 39,
   "id": "20e0dbf0-9603-4789-a788-c34c38140f93",
   "metadata": {},
   "outputs": [
    {
     "data": {
      "text/html": [
       "19.1685248366013"
      ],
      "text/latex": [
       "19.1685248366013"
      ],
      "text/markdown": [
       "19.1685248366013"
      ],
      "text/plain": [
       "[1] 19.16852"
      ]
     },
     "metadata": {},
     "output_type": "display_data"
    }
   ],
   "source": [
    "mean(titanic_sub$Fare)"
   ]
  },
  {
   "cell_type": "code",
   "execution_count": 40,
   "id": "ee7ff771-d10c-4b7b-a10b-209c1c162480",
   "metadata": {},
   "outputs": [
    {
     "data": {
      "text/html": [
       "14.5515887351415"
      ],
      "text/latex": [
       "14.5515887351415"
      ],
      "text/markdown": [
       "14.5515887351415"
      ],
      "text/plain": [
       "[1] 14.55159"
      ]
     },
     "metadata": {},
     "output_type": "display_data"
    }
   ],
   "source": [
    "sd(titanic_sub$Fare)"
   ]
  },
  {
   "cell_type": "code",
   "execution_count": 41,
   "id": "13bf93b4-be48-4849-a31d-ac21cb087a7d",
   "metadata": {},
   "outputs": [
    {
     "data": {
      "text/html": [
       "0.017054938649445"
      ],
      "text/latex": [
       "0.017054938649445"
      ],
      "text/markdown": [
       "0.017054938649445"
      ],
      "text/plain": [
       "[1] 0.01705494"
      ]
     },
     "metadata": {},
     "output_type": "display_data"
    }
   ],
   "source": [
    "# xác suất mẫu có Fare>=50 là bao nhiêu?\n",
    "1-pnorm(50, mean = mean(titanic_sub$Fare), sd = sd(titanic_sub$Fare))"
   ]
  },
  {
   "cell_type": "code",
   "execution_count": 42,
   "id": "a49d7928-7c67-41d5-b958-51cdfd427efc",
   "metadata": {},
   "outputs": [
    {
     "data": {
      "image/png": "[encoded data removed]",
      "text/plain": [
       "Plot with title \"Fare\""
      ]
     },
     "metadata": {
      "image/png": {
       "height": 420,
       "width": 420
      }
     },
     "output_type": "display_data"
    }
   ],
   "source": [
    "hist(titanic_sub$Fare, main = 'Fare',\n",
    "     xlab = 'Fare',\n",
    "     col = 'orange')"
   ]
  },
  {
   "cell_type": "markdown",
   "id": "96980180-2c05-4eb0-8b01-6482e7285f31",
   "metadata": {},
   "source": [
    "- Nhận xét: xác suất fare >= 50 là ~1.7%. "
   ]
  },
  {
   "cell_type": "code",
   "execution_count": null,
   "id": "02813734-159e-4dcd-977b-ae17a508355d",
   "metadata": {},
   "outputs": [],
   "source": []
  }
 ],
 "metadata": {
  "kernelspec": {
   "display_name": "R",
   "language": "R",
   "name": "ir"
  },
  "language_info": {
   "codemirror_mode": "r",
   "file_extension": ".r",
   "mimetype": "text/x-r-source",
   "name": "R",
   "pygments_lexer": "r",
   "version": "4.2.2"
  }
 },
 "nbformat": 4,
 "nbformat_minor": 5
}
